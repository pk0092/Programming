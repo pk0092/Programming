{
 "cells": [
  {
   "cell_type": "code",
   "execution_count": 2,
   "metadata": {},
   "outputs": [
    {
     "name": "stdout",
     "output_type": "stream",
     "text": [
      "['01월.xlsx', '02월.xlsx', '03월.xlsx', '04월.xlsx', '05월.xlsx', '06월.xlsx', '07월.xlsx', '08월.xls', '08월.xlsx', '09월.xlsx', '10월.xlsx', '11월.xlsx', '12월.xls']\n"
     ]
    }
   ],
   "source": [
    "import os\n",
    "import openpyxl\n",
    "\n",
    "path = \"./ncc\"\n",
    "file_list = os.listdir(path)\n",
    "print(file_list)"
   ]
  },
  {
   "cell_type": "code",
   "execution_count": null,
   "metadata": {},
   "outputs": [],
   "source": [
    "from openpyxl import load_workbook\n",
    "\n",
    "results = []\n",
    "\n",
    "for file_name_raw in file_list:\n",
    "    file_name = \"./ncc/\" + file_name_raw\n",
    "    wb = load_workbook(filename=file_name, data_only=True)\n",
    "    ws = wb.active\n",
    "    result = []\n",
    "    result.append(file_name_raw)\n",
    "    result.append(ws['C2'].value)\n",
    "    result.append(ws['C3'].value)\n",
    "    result.append(ws['E2'].value)\n",
    "    result.append(ws['E3'].value)\n",
    "    results.append(result)\n",
    "print(results)"
   ]
  }
 ],
 "metadata": {
  "kernelspec": {
   "display_name": "Python 3",
   "language": "python",
   "name": "python3"
  },
  "language_info": {
   "codemirror_mode": {
    "name": "ipython",
    "version": 3
   },
   "file_extension": ".py",
   "mimetype": "text/x-python",
   "name": "python",
   "nbconvert_exporter": "python",
   "pygments_lexer": "ipython3",
   "version": "3.7.3"
  }
 },
 "nbformat": 4,
 "nbformat_minor": 2
}
