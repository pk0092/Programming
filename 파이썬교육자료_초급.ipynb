{
 "cells": [
  {
   "cell_type": "markdown",
   "metadata": {},
   "source": [
    "# 주석 처리"
   ]
  },
  {
   "cell_type": "code",
   "execution_count": 8,
   "metadata": {},
   "outputs": [
    {
     "name": "stdout",
     "output_type": "stream",
     "text": [
      "1 Hello\n",
      "2 Hello\n",
      "3 Hello\n",
      "4 Hello\n",
      "5 Hello\n",
      "6 Hello\n",
      "7 Hello\n",
      "8 Hello\n",
      "9 Hello\n",
      "10 Hello\n"
     ]
    }
   ],
   "source": [
    "#for i in range(10):\n",
    "#    print(i+1, \"Hello\")"
   ]
  },
  {
   "cell_type": "code",
   "execution_count": 21,
   "metadata": {},
   "outputs": [
    {
     "name": "stdout",
     "output_type": "stream",
     "text": [
      "3\n",
      "1\n"
     ]
    }
   ],
   "source": [
    "print(3)\n",
    "#print(2)\n",
    "print(1)"
   ]
  },
  {
   "cell_type": "code",
   "execution_count": null,
   "metadata": {
    "collapsed": true
   },
   "outputs": [],
   "source": []
  },
  {
   "cell_type": "markdown",
   "metadata": {},
   "source": [
    "안녕하세요~"
   ]
  },
  {
   "cell_type": "markdown",
   "metadata": {},
   "source": [
    "# print()"
   ]
  },
  {
   "cell_type": "code",
   "execution_count": null,
   "metadata": {
    "collapsed": true
   },
   "outputs": [],
   "source": []
  },
  {
   "cell_type": "code",
   "execution_count": null,
   "metadata": {
    "collapsed": true
   },
   "outputs": [],
   "source": []
  },
  {
   "cell_type": "code",
   "execution_count": null,
   "metadata": {
    "collapsed": true
   },
   "outputs": [],
   "source": []
  },
  {
   "cell_type": "code",
   "execution_count": null,
   "metadata": {
    "collapsed": true
   },
   "outputs": [],
   "source": [
    "print(\"Hello Everyone!\")"
   ]
  },
  {
   "cell_type": "code",
   "execution_count": 2,
   "metadata": {
    "collapsed": true
   },
   "outputs": [],
   "source": [
    "x=1"
   ]
  },
  {
   "cell_type": "code",
   "execution_count": 3,
   "metadata": {},
   "outputs": [
    {
     "name": "stdout",
     "output_type": "stream",
     "text": [
      "1\n"
     ]
    }
   ],
   "source": [
    "print(x)"
   ]
  },
  {
   "cell_type": "markdown",
   "metadata": {},
   "source": [
    "# type()"
   ]
  },
  {
   "cell_type": "code",
   "execution_count": null,
   "metadata": {
    "collapsed": true
   },
   "outputs": [],
   "source": []
  },
  {
   "cell_type": "code",
   "execution_count": null,
   "metadata": {
    "collapsed": true
   },
   "outputs": [],
   "source": []
  },
  {
   "cell_type": "code",
   "execution_count": null,
   "metadata": {
    "collapsed": true
   },
   "outputs": [],
   "source": []
  },
  {
   "cell_type": "code",
   "execution_count": null,
   "metadata": {
    "collapsed": true
   },
   "outputs": [],
   "source": []
  },
  {
   "cell_type": "code",
   "execution_count": null,
   "metadata": {
    "collapsed": true
   },
   "outputs": [],
   "source": []
  },
  {
   "cell_type": "code",
   "execution_count": null,
   "metadata": {
    "collapsed": true
   },
   "outputs": [],
   "source": []
  },
  {
   "cell_type": "code",
   "execution_count": 4,
   "metadata": {
    "collapsed": true
   },
   "outputs": [],
   "source": [
    "x=1"
   ]
  },
  {
   "cell_type": "code",
   "execution_count": 5,
   "metadata": {},
   "outputs": [
    {
     "data": {
      "text/plain": [
       "int"
      ]
     },
     "execution_count": 5,
     "metadata": {},
     "output_type": "execute_result"
    }
   ],
   "source": [
    "type(x)"
   ]
  },
  {
   "cell_type": "code",
   "execution_count": 7,
   "metadata": {
    "collapsed": true
   },
   "outputs": [],
   "source": [
    "x=3.14"
   ]
  },
  {
   "cell_type": "code",
   "execution_count": 8,
   "metadata": {},
   "outputs": [
    {
     "data": {
      "text/plain": [
       "float"
      ]
     },
     "execution_count": 8,
     "metadata": {},
     "output_type": "execute_result"
    }
   ],
   "source": [
    "type(x)"
   ]
  },
  {
   "cell_type": "code",
   "execution_count": 9,
   "metadata": {
    "collapsed": true
   },
   "outputs": [],
   "source": [
    "x='ABC'"
   ]
  },
  {
   "cell_type": "code",
   "execution_count": 10,
   "metadata": {},
   "outputs": [
    {
     "data": {
      "text/plain": [
       "str"
      ]
     },
     "execution_count": 10,
     "metadata": {},
     "output_type": "execute_result"
    }
   ],
   "source": [
    "type(x)"
   ]
  },
  {
   "cell_type": "markdown",
   "metadata": {},
   "source": [
    "# Arithmetic operation"
   ]
  },
  {
   "cell_type": "code",
   "execution_count": null,
   "metadata": {
    "collapsed": true
   },
   "outputs": [],
   "source": [
    "\n",
    "\n",
    "\n",
    "\n",
    "\n",
    "\n",
    "\n",
    "\n",
    "\n",
    "\n"
   ]
  },
  {
   "cell_type": "code",
   "execution_count": null,
   "metadata": {
    "collapsed": true
   },
   "outputs": [],
   "source": []
  },
  {
   "cell_type": "code",
   "execution_count": 12,
   "metadata": {},
   "outputs": [
    {
     "name": "stdout",
     "output_type": "stream",
     "text": [
      "5\n",
      "6\n",
      "3.5999999999999996\n",
      "3.1999999999999997\n",
      "0.5999999999999996\n",
      "ABCEFG\n"
     ]
    },
    {
     "ename": "TypeError",
     "evalue": "unsupported operand type(s) for -: 'str' and 'str'",
     "output_type": "error",
     "traceback": [
      "\u001b[1;31m---------------------------------------------------------------------------\u001b[0m",
      "\u001b[1;31mTypeError\u001b[0m                                 Traceback (most recent call last)",
      "\u001b[1;32m<ipython-input-12-2e38ae23c7ef>\u001b[0m in \u001b[0;36m<module>\u001b[1;34m()\u001b[0m\n\u001b[0;32m     10\u001b[0m \u001b[0mprint\u001b[0m\u001b[1;33m(\u001b[0m\u001b[0mc\u001b[0m\u001b[1;33m%\u001b[0m\u001b[0mb\u001b[0m\u001b[1;33m)\u001b[0m\u001b[1;33m\u001b[0m\u001b[0m\n\u001b[0;32m     11\u001b[0m \u001b[0mprint\u001b[0m\u001b[1;33m(\u001b[0m\u001b[0md\u001b[0m\u001b[1;33m+\u001b[0m\u001b[0me\u001b[0m\u001b[1;33m)\u001b[0m\u001b[1;33m\u001b[0m\u001b[0m\n\u001b[1;32m---> 12\u001b[1;33m \u001b[0mprint\u001b[0m\u001b[1;33m(\u001b[0m\u001b[0md\u001b[0m\u001b[1;33m-\u001b[0m\u001b[0me\u001b[0m\u001b[1;33m)\u001b[0m\u001b[1;33m\u001b[0m\u001b[0m\n\u001b[0m",
      "\u001b[1;31mTypeError\u001b[0m: unsupported operand type(s) for -: 'str' and 'str'"
     ]
    }
   ],
   "source": [
    "a=2\n",
    "b=3\n",
    "c=9.6\n",
    "d='ABC'\n",
    "e='EFG'\n",
    "print(a+b)\n",
    "print(a*b)\n",
    "print(c-a*b)\n",
    "print(c/b)\n",
    "print(c%b)\n",
    "print(d+e)\n",
    "print(d-e)"
   ]
  },
  {
   "cell_type": "markdown",
   "metadata": {},
   "source": [
    "# Variable declaration"
   ]
  },
  {
   "cell_type": "code",
   "execution_count": null,
   "metadata": {
    "collapsed": true
   },
   "outputs": [],
   "source": [
    "\n",
    "\n",
    "\n",
    "\n"
   ]
  },
  {
   "cell_type": "code",
   "execution_count": 14,
   "metadata": {},
   "outputs": [
    {
     "name": "stdout",
     "output_type": "stream",
     "text": [
      "June is Summer\n",
      "My code name is 8080\n"
     ]
    }
   ],
   "source": [
    "season='Summer'\n",
    "print('June is',season)\n",
    "mycode=8080\n",
    "print('My code name is', mycode)"
   ]
  },
  {
   "cell_type": "markdown",
   "metadata": {},
   "source": [
    "# problem1"
   ]
  },
  {
   "cell_type": "code",
   "execution_count": null,
   "metadata": {
    "collapsed": true
   },
   "outputs": [],
   "source": [
    "\n",
    "\n",
    "\n"
   ]
  },
  {
   "cell_type": "code",
   "execution_count": 15,
   "metadata": {},
   "outputs": [
    {
     "name": "stdout",
     "output_type": "stream",
     "text": [
      "name <class 'str'>\n",
      "Quotient: 3 \n",
      "Remainder: 4\n"
     ]
    }
   ],
   "source": [
    "print('name', type('name'))\n",
    "A=40\n",
    "B=12\n",
    "print('Quotient:', int(A/B), '\\nRemainder:', A%B)"
   ]
  },
  {
   "cell_type": "markdown",
   "metadata": {},
   "source": [
    "# Input()"
   ]
  },
  {
   "cell_type": "code",
   "execution_count": null,
   "metadata": {
    "collapsed": true
   },
   "outputs": [],
   "source": [
    "\n",
    "\n",
    "\n",
    "\n"
   ]
  },
  {
   "cell_type": "code",
   "execution_count": 18,
   "metadata": {},
   "outputs": [
    {
     "name": "stdout",
     "output_type": "stream",
     "text": [
      "Enter data : 123\n",
      "<class 'str'> 123\n",
      "<class 'int'> 123\n"
     ]
    }
   ],
   "source": [
    "s=input(\"Enter data : \")\n",
    "print(type(s),s)\n",
    "a=int(s)\n",
    "print(type(a),a)"
   ]
  },
  {
   "cell_type": "markdown",
   "metadata": {},
   "source": [
    "# str.split()"
   ]
  },
  {
   "cell_type": "code",
   "execution_count": null,
   "metadata": {
    "collapsed": true
   },
   "outputs": [],
   "source": [
    "\n",
    "\n",
    "\n",
    "\n"
   ]
  },
  {
   "cell_type": "code",
   "execution_count": 19,
   "metadata": {},
   "outputs": [
    {
     "name": "stdout",
     "output_type": "stream",
     "text": [
      "3.7 Python With Computational Thinking!\n",
      "['3.7', 'Python', 'With', 'Computational', 'Thinking!']\n"
     ]
    }
   ],
   "source": [
    "a,b,c,d,e=\"3.7 Python With Computational Thinking!\".split()\n",
    "print(a,b,c,d,e)\n",
    "f=\"3.7 Python With Computational Thinking!\"\n",
    "g=f.split()\n",
    "print(g)"
   ]
  },
  {
   "cell_type": "markdown",
   "metadata": {},
   "source": [
    "# str.format()"
   ]
  },
  {
   "cell_type": "code",
   "execution_count": null,
   "metadata": {
    "collapsed": true
   },
   "outputs": [],
   "source": [
    "\n",
    "\n",
    "\n",
    "\n"
   ]
  },
  {
   "cell_type": "code",
   "execution_count": 20,
   "metadata": {},
   "outputs": [
    {
     "name": "stdout",
     "output_type": "stream",
     "text": [
      "2 + 3 = 5\n",
      "3 + 2 = 5\n"
     ]
    }
   ],
   "source": [
    "s= \"{} + {} = 5\".format(2,3)\n",
    "print(s)\n",
    "a=2\n",
    "b=3\n",
    "print(\"{1} + {0} = 5\".format(a,b))"
   ]
  },
  {
   "cell_type": "markdown",
   "metadata": {},
   "source": [
    "# Repetitive Statement"
   ]
  },
  {
   "cell_type": "code",
   "execution_count": null,
   "metadata": {
    "collapsed": true
   },
   "outputs": [],
   "source": [
    "\n",
    "\n",
    "\n"
   ]
  },
  {
   "cell_type": "code",
   "execution_count": null,
   "metadata": {
    "collapsed": true
   },
   "outputs": [],
   "source": [
    "\n",
    "\n",
    "\n"
   ]
  },
  {
   "cell_type": "code",
   "execution_count": null,
   "metadata": {
    "collapsed": true
   },
   "outputs": [],
   "source": [
    "\n",
    "\n",
    "\n"
   ]
  },
  {
   "cell_type": "code",
   "execution_count": null,
   "metadata": {
    "collapsed": true
   },
   "outputs": [],
   "source": [
    "for n in [0,1,2,3,4,5,6,7,8,9]:\n",
    "    n2 = n+1\n",
    "    print(n2)\n",
    "print('Reputation Over')"
   ]
  },
  {
   "cell_type": "code",
   "execution_count": null,
   "metadata": {
    "collapsed": true
   },
   "outputs": [],
   "source": [
    "for n in range(10):\n",
    "    n2 = n+1\n",
    "    print(n2)\n",
    "print('Reputation Over')"
   ]
  },
  {
   "cell_type": "code",
   "execution_count": null,
   "metadata": {
    "collapsed": true
   },
   "outputs": [],
   "source": [
    "numbers=[1,2,3]\n",
    "length = len(numbers)\n",
    "i=0\n",
    "while i != 3 :\n",
    "    print(numbers[i])\n",
    "    i = i + 1"
   ]
  },
  {
   "cell_type": "markdown",
   "metadata": {},
   "source": [
    "# Variable form"
   ]
  },
  {
   "cell_type": "markdown",
   "metadata": {},
   "source": [
    "Variable"
   ]
  },
  {
   "cell_type": "code",
   "execution_count": null,
   "metadata": {
    "collapsed": true
   },
   "outputs": [],
   "source": [
    "\n"
   ]
  },
  {
   "cell_type": "code",
   "execution_count": 22,
   "metadata": {},
   "outputs": [
    {
     "name": "stdout",
     "output_type": "stream",
     "text": [
      "1\n"
     ]
    }
   ],
   "source": [
    "x=1\n",
    "print(x)"
   ]
  },
  {
   "cell_type": "markdown",
   "metadata": {},
   "source": [
    "list"
   ]
  },
  {
   "cell_type": "code",
   "execution_count": null,
   "metadata": {
    "collapsed": true
   },
   "outputs": [],
   "source": [
    "\n",
    "\n"
   ]
  },
  {
   "cell_type": "code",
   "execution_count": 23,
   "metadata": {},
   "outputs": [
    {
     "name": "stdout",
     "output_type": "stream",
     "text": [
      "The last color of the rainbow is purple.\n"
     ]
    }
   ],
   "source": [
    "rainbow=['red', 'orange', 'yellow', 'green', 'blue', 'purple']\n",
    "last_color = rainbow[-1]\n",
    "print('The last color of the rainbow is {}.'.format(last_color))"
   ]
  },
  {
   "cell_type": "markdown",
   "metadata": {},
   "source": [
    "Dictionary"
   ]
  },
  {
   "cell_type": "code",
   "execution_count": null,
   "metadata": {
    "collapsed": true
   },
   "outputs": [],
   "source": [
    "\n",
    "\n"
   ]
  },
  {
   "cell_type": "code",
   "execution_count": null,
   "metadata": {
    "collapsed": true
   },
   "outputs": [],
   "source": [
    "\n",
    "\n",
    "\n",
    "\n"
   ]
  },
  {
   "cell_type": "code",
   "execution_count": 24,
   "metadata": {},
   "outputs": [
    {
     "name": "stdout",
     "output_type": "stream",
     "text": [
      "There are 31 days in March.\n"
     ]
    }
   ],
   "source": [
    "days_in_month = {\"January\":31, \"February\":28, \"March\":31, \"April\":30, \"May\":31}\n",
    "print(\"There are {1} days in {0}.\".format(\"March\", days_in_month[\"March\"]))"
   ]
  },
  {
   "cell_type": "code",
   "execution_count": 26,
   "metadata": {},
   "outputs": [
    {
     "name": "stdout",
     "output_type": "stream",
     "text": [
      "English\n",
      "English\n",
      "English\n"
     ]
    }
   ],
   "source": [
    "ENG = {\"ABC\":\"English\", \"abc\":\"English\", \"english\":\"English\"}\n",
    "print(ENG[\"ABC\"])\n",
    "print(ENG[\"abc\"])\n",
    "print(ENG[\"english\"])"
   ]
  },
  {
   "cell_type": "markdown",
   "metadata": {},
   "source": [
    "Set()"
   ]
  },
  {
   "cell_type": "code",
   "execution_count": null,
   "metadata": {
    "collapsed": true
   },
   "outputs": [],
   "source": [
    "\n",
    "\n",
    "\n",
    "\n",
    "\n",
    "\n",
    "\n",
    "\n"
   ]
  },
  {
   "cell_type": "code",
   "execution_count": null,
   "metadata": {
    "collapsed": true
   },
   "outputs": [],
   "source": [
    "\n",
    "\n",
    "\n",
    "\n",
    "\n",
    "\n",
    "\n"
   ]
  },
  {
   "cell_type": "code",
   "execution_count": 39,
   "metadata": {},
   "outputs": [
    {
     "name": "stdout",
     "output_type": "stream",
     "text": [
      "{3}\n",
      "{2, 3}\n",
      "{2, 3}\n",
      "{1, 2, 3}\n"
     ]
    }
   ],
   "source": [
    "a=set()\n",
    "a.add(3)\n",
    "print(a)\n",
    "a.add(2)\n",
    "print(a)\n",
    "a.add(2)\n",
    "print(a)\n",
    "a.add(1)\n",
    "print(a)\n",
    "## 1. Auto-sorting\n",
    "## 2. Auto-duplication-prevent"
   ]
  },
  {
   "cell_type": "code",
   "execution_count": 29,
   "metadata": {},
   "outputs": [
    {
     "name": "stdout",
     "output_type": "stream",
     "text": [
      "[1]\n",
      "[1, 2]\n",
      "[1, 2, 1]\n"
     ]
    }
   ],
   "source": [
    "# In list case,\n",
    "b=[]\n",
    "b.append(1)\n",
    "print(b)\n",
    "b.append(2)\n",
    "print(b)\n",
    "b.append(1)\n",
    "print(b)"
   ]
  },
  {
   "cell_type": "markdown",
   "metadata": {},
   "source": [
    "Tuple"
   ]
  },
  {
   "cell_type": "code",
   "execution_count": null,
   "metadata": {
    "collapsed": true
   },
   "outputs": [],
   "source": [
    "\n",
    "\n",
    "\n",
    "\n",
    "\n",
    "\n"
   ]
  },
  {
   "cell_type": "code",
   "execution_count": 3,
   "metadata": {},
   "outputs": [
    {
     "name": "stdout",
     "output_type": "stream",
     "text": [
      "(1, 3, 2)\n",
      "(1, 3, 2)\n",
      "(1, 3, 2)\n",
      "tuple1, tuple2 and tuple3 are same!\n"
     ]
    }
   ],
   "source": [
    "t1 = (1,3,2)\n",
    "t2 = 1,3,2\n",
    "list3 = [1,3,2]\n",
    "t3 = tuple(list3)\n",
    "print(t1)\n",
    "print(t2)\n",
    "print(t3)\n",
    "if t1 == t2 == t3:\n",
    "    print(\"tuple1, tuple2 and tuple3 are same!\")"
   ]
  },
  {
   "cell_type": "markdown",
   "metadata": {},
   "source": [
    "# Coditional Statement"
   ]
  },
  {
   "cell_type": "markdown",
   "metadata": {},
   "source": [
    "if/elif/else"
   ]
  },
  {
   "cell_type": "code",
   "execution_count": null,
   "metadata": {
    "collapsed": true
   },
   "outputs": [],
   "source": [
    "\n",
    "\n",
    "\n",
    "\n",
    "\n"
   ]
  },
  {
   "cell_type": "code",
   "execution_count": 62,
   "metadata": {},
   "outputs": [
    {
     "name": "stdout",
     "output_type": "stream",
     "text": [
      "It's not a draw game\n"
     ]
    }
   ],
   "source": [
    "mine = 'rock'\n",
    "yours = 'scissors'\n",
    "if mine == yours:\n",
    "    print(\"It's a draw game\")\n",
    "else:\n",
    "    print(\"It's not a draw game\")"
   ]
  },
  {
   "cell_type": "markdown",
   "metadata": {
    "collapsed": true
   },
   "source": [
    "try/except"
   ]
  },
  {
   "cell_type": "code",
   "execution_count": null,
   "metadata": {
    "collapsed": true
   },
   "outputs": [],
   "source": [
    "\n",
    "\n",
    "\n",
    "\n",
    "\n"
   ]
  },
  {
   "cell_type": "code",
   "execution_count": 63,
   "metadata": {},
   "outputs": [
    {
     "name": "stdout",
     "output_type": "stream",
     "text": [
      "Cannot divide by zero\n"
     ]
    }
   ],
   "source": [
    "try:\n",
    "    a=3/0\n",
    "except:\n",
    "     print(\"Cannot divide by zero\")   "
   ]
  },
  {
   "cell_type": "markdown",
   "metadata": {},
   "source": [
    "# Problem2"
   ]
  },
  {
   "cell_type": "code",
   "execution_count": null,
   "metadata": {
    "collapsed": true
   },
   "outputs": [],
   "source": [
    "\n",
    "\n",
    "\n",
    "\n",
    "\n",
    "\n",
    "\n",
    "\n",
    "\n",
    "\n",
    "\n"
   ]
  },
  {
   "cell_type": "code",
   "execution_count": 65,
   "metadata": {},
   "outputs": [
    {
     "name": "stdout",
     "output_type": "stream",
     "text": [
      "Enter five numbers: \n",
      "1 2 3 4 5\n",
      "Standard deviation of these values is 1.4142135623730951.\n"
     ]
    }
   ],
   "source": [
    "print(\"Enter five numbers: \")\n",
    "a, b, c, d, e =input('').split()\n",
    "M2 =0\n",
    "E2 =0\n",
    "data=[a,b,c,d,e]\n",
    "\n",
    "for d in data:\n",
    "    d= int(d)\n",
    "    M2= M2 + (d**2)\n",
    "    E2= E2 + d\n",
    "\n",
    "M2 = M2/5\n",
    "E2 = (E2/5)**2\n",
    "std_dev=(M2-E2)**(1/2)\n",
    "\n",
    "print(\"Standard deviation of these values is {}.\".format(std_dev))"
   ]
  },
  {
   "cell_type": "code",
   "execution_count": 67,
   "metadata": {},
   "outputs": [
    {
     "name": "stdout",
     "output_type": "stream",
     "text": [
      "1. Enter the number: 1\n",
      "2. Enter the number: 2\n",
      "3. Enter the number: 3\n",
      "4. Enter the number: 4\n",
      "5. Enter the number: 5\n",
      "Standard deviation of these values is 1.4142135623730951.\n"
     ]
    }
   ],
   "source": [
    "M2 =0\n",
    "E2 =0\n",
    "for order in range(5):\n",
    "    d= input(\"{}. Enter the number: \".format(order+1))\n",
    "    M2= M2 + (int(d)**2)\n",
    "    E2= E2 + int(d)\n",
    "\n",
    "M2 = M2/5\n",
    "E2 = (E2/5)**2\n",
    "std_dev=(M2-E2)**(1/2)\n",
    "print(\"Standard deviation of these values is {}.\".format(std_dev))"
   ]
  },
  {
   "cell_type": "markdown",
   "metadata": {},
   "source": [
    "# Exercise Examples"
   ]
  },
  {
   "cell_type": "code",
   "execution_count": null,
   "metadata": {
    "collapsed": true
   },
   "outputs": [],
   "source": [
    "\n",
    "\n",
    "\n",
    "\n",
    "\n",
    "\n",
    "\n",
    "\n",
    "\n",
    "\n"
   ]
  },
  {
   "cell_type": "code",
   "execution_count": 3,
   "metadata": {
    "collapsed": true
   },
   "outputs": [],
   "source": [
    "import turtle\n",
    "\n",
    "t = turtle.Pen()\n",
    "\n",
    "t.forward(100)\n",
    "\n",
    "t.left(90)\n",
    "\n",
    "t.forward(100)\n",
    "\n",
    "t.left(90)\n",
    "\n",
    "t.forward(100)\n",
    "\n",
    "t.left(90)\n",
    "\n",
    "t.forward(100)\n",
    "\n",
    "t.hideturtle()\n"
   ]
  },
  {
   "cell_type": "code",
   "execution_count": null,
   "metadata": {
    "collapsed": true
   },
   "outputs": [],
   "source": [
    "\n",
    "\n",
    "\n",
    "\n",
    "\n",
    "\n",
    "\n",
    "\n",
    "\n",
    "\n"
   ]
  },
  {
   "cell_type": "code",
   "execution_count": 4,
   "metadata": {},
   "outputs": [
    {
     "name": "stdout",
     "output_type": "stream",
     "text": [
      "ICT\n",
      "ICT\n",
      "Done\n"
     ]
    }
   ],
   "source": [
    "##ICT\n",
    "import win32com.client as wc #윈도우 리소스 컨트롤 모듈\n",
    "\n",
    "excel = wc.Dispatch(\"Excel.Application\") #엑셀 접근\n",
    "\n",
    "\n",
    "#엑셀파일 오픈 & 시트 활성화\n",
    "ex1=excel.Workbooks.Open(r'C:\\python\\데일리.xlsx')\n",
    "ws1= ex1.ActiveSheet\n",
    "ex2=excel.Workbooks.Open(r'C:\\python\\ICT내용만.xlsx')\n",
    "ws2= ex2.ActiveSheet\n",
    "\n",
    "#엑셀파일의 셀 내용을 받을 리스트 변수(리스트화 하는 이유->동작이 20배 더 빠름)\n",
    "troubles=[]\n",
    "ICT=[]\n",
    "\n",
    "\n",
    "#리스트 길이\n",
    "listlength=101\n",
    "\n",
    "\n",
    "#셀내용들 리스트화\n",
    "for i in range(1,listlength):\n",
    "    \n",
    "    if type(ws1.Cells(i,7).Value) is str:\n",
    "        troubles=troubles + [ws1.Cells(i,7).Value]\n",
    "    \n",
    "    else:\n",
    "        troubles=troubles + ['?']\n",
    "        \n",
    "#ICT있는지 조사        \n",
    "for num, trouble in enumerate(troubles):\n",
    "    if 'ICT' in trouble:\n",
    "        ICT=ICT+[ws1.Cells(num+1,1),ws1.Cells(num+1,2),ws1.Cells(num+1,3),ws1.Cells(num+1,4),ws1.Cells(num+1,5),ws1.Cells(num+1,6),ws1.Cells(num+1,7),ws1.Cells(num+1,8)]\n",
    "        print(trouble)\n",
    "        \n",
    "#적기\n",
    "row=1\n",
    "for column, cont in enumerate(ICT):\n",
    "    if (column)%8 == 0:\n",
    "        ws2.Cells(row,1).Value=cont\n",
    "    elif (column)%8 == 1:\n",
    "        ws2.Cells(row,2).Value=cont\n",
    "    elif (column)%8 == 2:\n",
    "        ws2.Cells(row,3).Value=cont\n",
    "    elif (column)%8 == 3:\n",
    "        ws2.Cells(row,4).Value=cont\n",
    "    elif (column)%8 == 4:\n",
    "        ws2.Cells(row,5).Value=cont\n",
    "    elif (column)%8 == 5:\n",
    "        ws2.Cells(row,6).Value=cont\n",
    "    elif (column)%8 == 6:\n",
    "        ws2.Cells(row,7).Value=cont\n",
    "    else:\n",
    "        ws2.Cells(row,8).Value=cont\n",
    "        row=row+1\n",
    "\n",
    "#저장 및 종료            \n",
    "ex2.Save()\n",
    "excel.Quit()\n",
    "print(\"Done\")"
   ]
  },
  {
   "cell_type": "code",
   "execution_count": null,
   "metadata": {
    "collapsed": true
   },
   "outputs": [],
   "source": []
  },
  {
   "cell_type": "code",
   "execution_count": null,
   "metadata": {
    "collapsed": true
   },
   "outputs": [],
   "source": []
  }
 ],
 "metadata": {
  "kernelspec": {
   "display_name": "Python 3",
   "language": "python",
   "name": "python3"
  },
  "language_info": {
   "codemirror_mode": {
    "name": "ipython",
    "version": 3
   },
   "file_extension": ".py",
   "mimetype": "text/x-python",
   "name": "python",
   "nbconvert_exporter": "python",
   "pygments_lexer": "ipython3",
   "version": "3.6.3"
  }
 },
 "nbformat": 4,
 "nbformat_minor": 2
}
