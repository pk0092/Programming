{
 "cells": [
  {
   "cell_type": "code",
   "execution_count": 9,
   "metadata": {
    "scrolled": true
   },
   "outputs": [
    {
     "ename": "TypeError",
     "evalue": "'str' object cannot be interpreted as an integer",
     "output_type": "error",
     "traceback": [
      "\u001b[1;31m---------------------------------------------------------------------------\u001b[0m",
      "\u001b[1;31mTypeError\u001b[0m                                 Traceback (most recent call last)",
      "\u001b[1;32m<ipython-input-9-fec588f72892>\u001b[0m in \u001b[0;36m<module>\u001b[1;34m()\u001b[0m\n\u001b[0;32m     22\u001b[0m \u001b[0mmodiresults\u001b[0m\u001b[1;33m=\u001b[0m\u001b[1;33m[\u001b[0m\u001b[1;33m]\u001b[0m\u001b[1;33m\u001b[0m\u001b[0m\n\u001b[0;32m     23\u001b[0m \u001b[1;32mfor\u001b[0m \u001b[0mcause\u001b[0m \u001b[1;32min\u001b[0m \u001b[0mcauses\u001b[0m\u001b[1;33m:\u001b[0m\u001b[1;33m\u001b[0m\u001b[0m\n\u001b[1;32m---> 24\u001b[1;33m     \u001b[0mmodicauses\u001b[0m\u001b[1;33m=\u001b[0m\u001b[0mmodicauses\u001b[0m\u001b[1;33m+\u001b[0m\u001b[1;33m[\u001b[0m\u001b[0mre\u001b[0m\u001b[1;33m.\u001b[0m\u001b[0msub\u001b[0m\u001b[1;33m(\u001b[0m\u001b[1;34m'\\number'\u001b[0m\u001b[1;33m,\u001b[0m\u001b[1;34m'abc'\u001b[0m\u001b[1;33m,\u001b[0m\u001b[0mcause\u001b[0m\u001b[1;33m,\u001b[0m\u001b[1;34m'g'\u001b[0m\u001b[1;33m)\u001b[0m\u001b[1;33m]\u001b[0m\u001b[1;33m\u001b[0m\u001b[0m\n\u001b[0m\u001b[0;32m     25\u001b[0m     \u001b[0mprint\u001b[0m\u001b[1;33m(\u001b[0m\u001b[1;36m1\u001b[0m\u001b[1;33m)\u001b[0m\u001b[1;33m\u001b[0m\u001b[0m\n\u001b[0;32m     26\u001b[0m \u001b[0mprint\u001b[0m\u001b[1;33m(\u001b[0m\u001b[0mmodicauses\u001b[0m\u001b[1;33m)\u001b[0m\u001b[1;33m\u001b[0m\u001b[0m\n",
      "\u001b[1;32m~\\AppData\\Local\\Continuum\\anaconda3\\lib\\re.py\u001b[0m in \u001b[0;36msub\u001b[1;34m(pattern, repl, string, count, flags)\u001b[0m\n\u001b[0;32m    189\u001b[0m     \u001b[0ma\u001b[0m \u001b[0mcallable\u001b[0m\u001b[1;33m,\u001b[0m \u001b[0mit\u001b[0m\u001b[0;31m'\u001b[0m\u001b[0ms\u001b[0m \u001b[0mpassed\u001b[0m \u001b[0mthe\u001b[0m \u001b[0mmatch\u001b[0m \u001b[0mobject\u001b[0m \u001b[1;32mand\u001b[0m \u001b[0mmust\u001b[0m \u001b[1;32mreturn\u001b[0m\u001b[1;33m\u001b[0m\u001b[0m\n\u001b[0;32m    190\u001b[0m     a replacement string to be used.\"\"\"\n\u001b[1;32m--> 191\u001b[1;33m     \u001b[1;32mreturn\u001b[0m \u001b[0m_compile\u001b[0m\u001b[1;33m(\u001b[0m\u001b[0mpattern\u001b[0m\u001b[1;33m,\u001b[0m \u001b[0mflags\u001b[0m\u001b[1;33m)\u001b[0m\u001b[1;33m.\u001b[0m\u001b[0msub\u001b[0m\u001b[1;33m(\u001b[0m\u001b[0mrepl\u001b[0m\u001b[1;33m,\u001b[0m \u001b[0mstring\u001b[0m\u001b[1;33m,\u001b[0m \u001b[0mcount\u001b[0m\u001b[1;33m)\u001b[0m\u001b[1;33m\u001b[0m\u001b[0m\n\u001b[0m\u001b[0;32m    192\u001b[0m \u001b[1;33m\u001b[0m\u001b[0m\n\u001b[0;32m    193\u001b[0m \u001b[1;32mdef\u001b[0m \u001b[0msubn\u001b[0m\u001b[1;33m(\u001b[0m\u001b[0mpattern\u001b[0m\u001b[1;33m,\u001b[0m \u001b[0mrepl\u001b[0m\u001b[1;33m,\u001b[0m \u001b[0mstring\u001b[0m\u001b[1;33m,\u001b[0m \u001b[0mcount\u001b[0m\u001b[1;33m=\u001b[0m\u001b[1;36m0\u001b[0m\u001b[1;33m,\u001b[0m \u001b[0mflags\u001b[0m\u001b[1;33m=\u001b[0m\u001b[1;36m0\u001b[0m\u001b[1;33m)\u001b[0m\u001b[1;33m:\u001b[0m\u001b[1;33m\u001b[0m\u001b[0m\n",
      "\u001b[1;31mTypeError\u001b[0m: 'str' object cannot be interpreted as an integer"
     ]
    }
   ],
   "source": [
    "#정규표현식 모듈\n",
    "import re \n",
    "\n",
    "#윈도우 리소스 컨트롤 모듈\n",
    "import win32com.client as wc \n",
    "\n",
    "#엑셀 어플리케이션 연결\n",
    "excel = wc.Dispatch(\"Excel.Application\") \n",
    "\n",
    "#엑셀파일 오픈(경로입력) & 시트 활성화\n",
    "ex1=excel.Workbooks.Open(r'C:\\Users\\uidk3482\\Desktop\\정규표현식 정리\\re1.xlsx')\n",
    "ws1= ex1.ActiveSheet\n",
    "\n",
    "#엑셀파일의 셀 내용을 받을 리스트 변수\n",
    "contents=[]\n",
    "\n",
    "#리스트 길이\n",
    "listlength=1\n",
    "try:\n",
    "    if type(ws1.Cells(,1).Value) == str\n",
    "#셀내용들 리스트화\n",
    "for i in range(1,listlength):\n",
    "    contents=contents + [ws1.Cells(i,1).Value]\n",
    "        \n",
    "#내용들 개선\n",
    "modicauses=[]\n",
    "modiresults=[]\n",
    "for cause in causes:\n",
    "    modicauses=modicauses+[re.sub('[^\\w]',' ',cause).lower()]\n",
    "    print(1)\n"
   ]
  },
  {
   "cell_type": "code",
   "execution_count": null,
   "metadata": {
    "collapsed": true
   },
   "outputs": [],
   "source": [
    "import re\n",
    "help(re)"
   ]
  },
  {
   "cell_type": "code",
   "execution_count": 14,
   "metadata": {},
   "outputs": [
    {
     "name": "stdout",
     "output_type": "stream",
     "text": [
      "Help on function match in module re:\n",
      "\n",
      "match(pattern, string, flags=0)\n",
      "    Try to apply the pattern at the start of the string, returning\n",
      "    a match object, or None if no match was found.\n",
      "\n"
     ]
    }
   ],
   "source": [
    "import re\n",
    "help(re.match)"
   ]
  },
  {
   "cell_type": "code",
   "execution_count": null,
   "metadata": {
    "collapsed": true
   },
   "outputs": [],
   "source": [
    "Help on function fullmatch in module re:\n",
    "\n",
    "fullmatch(pattern, string, flags=0)\n",
    "    Try to apply the pattern to all of the string, returning\n",
    "    a match object, or None if no match was found."
   ]
  },
  {
   "cell_type": "code",
   "execution_count": 24,
   "metadata": {},
   "outputs": [
    {
     "name": "stdout",
     "output_type": "stream",
     "text": [
      "\tMatch\n",
      "<_sre.SRE_Match object; span=(0, 2), match='안녕'>\n",
      "None\n",
      "\tFullmatch\n",
      "None\n",
      "None\n",
      "\tSearch\n",
      "<_sre.SRE_Match object; span=(0, 2), match='안녕'>\n",
      "<_sre.SRE_Match object; span=(5, 7), match='안녕'>\n"
     ]
    }
   ],
   "source": [
    "import re\n",
    "text1 = \"안녕하세요 cbs 박민sw intern 입니다 abc ㄱㄴㄷ 123\"\n",
    "text2 = \"철수야, 안녕? 123 ㄱㄴㄷ abc\"\n",
    "\n",
    "a=re.match('안녕',text1)\n",
    "b=re.match('안녕',text2)\n",
    "c=re.fullmatch('안녕',text1)\n",
    "d=re.fullmatch('안녕',text2)\n",
    "e=re.search('안녕',text1)\n",
    "f=re.search('안녕',text2)\n",
    "\n",
    "print(\"\\tMatch\")\n",
    "print(a)\n",
    "print(b)\n",
    "print(\"\\tFullmatch\")\n",
    "print(c)\n",
    "print(d)\n",
    "print(\"\\tSearch\")\n",
    "print(e)\n",
    "print(f)"
   ]
  },
  {
   "cell_type": "code",
   "execution_count": 26,
   "metadata": {},
   "outputs": [
    {
     "name": "stdout",
     "output_type": "stream",
     "text": [
      "['2017', '12', '07', '2017', '12', '30', '']\n"
     ]
    }
   ],
   "source": [
    "text = '2017년 12월 07일 ~ 2017년 12월 30일'\n",
    "\n",
    "tmp_text = re.split('[년월일 ~]+', text)\n",
    "시작일 = '-'.join(tmp_text[:3])\n",
    "종료일 = '-'.join(tmp_text[3:6])\n",
    "\n",
    "시작일, 종료일\n",
    "print(tmp_text)"
   ]
  },
  {
   "cell_type": "code",
   "execution_count": 34,
   "metadata": {},
   "outputs": [
    {
     "name": "stdout",
     "output_type": "stream",
     "text": [
      "['apple', 'banana', 'abc']\n",
      "['banana', 'abc']\n",
      "['banana', 'abc']\n",
      "['오렌지', 'ㄱㄴㄷ']\n",
      "['02-1234-5678', '010-9876-5432']\n",
      "['02-1234-5678']\n",
      "['010-9876-5432']\n",
      "['2018-05-15']\n"
     ]
    }
   ],
   "source": [
    "import re\n",
    "text = \"apple1 123오렌지 banana 02-1234-5678 010-9876-5432 2018-05-15 123 ㄱㄴㄷ abc\"\n",
    "alpha=re.findall(\"[a-z]+\", text) #알파벳만\n",
    "alphasector1=re.findall(\"\\\\b[a-z]+\\\\b\",text)#알파벳이 포함된 섹터\n",
    "alphasector2=re.findall(r\"\\b[a-z]+\\b\",text)#탈출문자 무시(r추가)\n",
    "korean=re.findall(\"[ㄱ-힣]+\", text) #한글만\n",
    "phone=re.findall(\"0[\\d]{1,2}\\D?[\\d]{3,4}\\D?[\\d]{4}\", text) #전화번호형식\n",
    "tele=re.findall(\"0[23456]\\d?\\D?[\\d]{3,4}\\D?[\\d]{4}\", text) #집전화번호만\n",
    "mobile=re.findall(\"01[016789]\\D?\\d{3,4}\\D?\\d{4}\", text)#핸드폰번호만\n",
    "Date=re.findall(\"\\d{4}-[01]\\d-[0-3]\\d\", text) #날짜만\n",
    "\n",
    "print(alpha)#알파벳만\n",
    "print(alphasector1)#알파벳이 포함된 섹터\n",
    "print(alphasector2)#탈출문자 무시\n",
    "print(korean)#한글만\n",
    "print(phone)#전화번호형식\n",
    "print(tele)#집전화번호만\n",
    "print(mobile)#핸드폰번호만\n",
    "print(Date)#날짜만"
   ]
  },
  {
   "cell_type": "code",
   "execution_count": 52,
   "metadata": {},
   "outputs": [
    {
     "name": "stdout",
     "output_type": "stream",
     "text": [
      "Done\n"
     ]
    }
   ],
   "source": [
    "#정규표현식 모듈\n",
    "import re\n",
    "\n",
    "#윈도우 COM object 컨트롤 모듈\n",
    "import win32com.client as wc \n",
    "\n",
    "#엑셀 어플리케이션 연결\n",
    "excel = wc.Dispatch(\"Excel.Application\") \n",
    "\n",
    "#엑셀파일 오픈(경로입력) & 시트 활성화\n",
    "ex1=excel.Workbooks.Open(r'C:\\Users\\uidk3482\\Desktop\\정규표현식 정리\\aaa.xlsx')\n",
    "ws1= ex1.ActiveSheet\n",
    "\n",
    "print(\"Start\")\n",
    "\n",
    "#내용 추출(1~100행,A~AZ열, 참고: 엑셀처리에서는 1번부터 시작, 파이썬데이터는 0번부터 시작))\n",
    "contents=ws1.Range(\"A1:AZ100\").Value\n",
    "replcontents=[]\n",
    "#정규표현식을 이용해 데이터 변경(숫자를 지우고, 영소문자는 영대문자로)\n",
    "for rows in contents:#각 행 추출\n",
    "    for text in rows:#각 셀 추출\n",
    "        temp=str(text)\n",
    "        if temp == 'None':\n",
    "            replcontents = replcontents + [''] #빈 셀이었으면 빈 데이터 추가\n",
    "        else:\n",
    "            text=re.sub('[\\d]','',temp).upper()\n",
    "            replcontents = replcontents + [text] #데이터가 있는 셀이었으면 데이터 변경 후 추가\n",
    "\n",
    "#내용 삽입/교체\n",
    "row=1\n",
    "column=1\n",
    "for replace in replcontents:\n",
    "    ws1.Cells(row,column).Value=replace\n",
    "    if column == 52:\n",
    "        column=1\n",
    "        row=row+1\n",
    "    else:\n",
    "        column=column+1\n",
    "        \n",
    "#저장 및 종료\n",
    "ex1.Save()\n",
    "excel.Quit()\n",
    "print(\"Done\")"
   ]
  },
  {
   "cell_type": "code",
   "execution_count": 38,
   "metadata": {},
   "outputs": [
    {
     "name": "stdout",
     "output_type": "stream",
     "text": [
      "Help on function sub in module re:\n",
      "\n",
      "sub(pattern, repl, string, count=0, flags=0)\n",
      "    Return the string obtained by replacing the leftmost\n",
      "    non-overlapping occurrences of the pattern in string by the\n",
      "    replacement repl.  repl can be either a string or a callable;\n",
      "    if a string, backslash escapes in it are processed.  If it is\n",
      "    a callable, it's passed the match object and must return\n",
      "    a replacement string to be used.\n",
      "\n"
     ]
    }
   ],
   "source": [
    "import re\n",
    "help(re.sub)"
   ]
  },
  {
   "cell_type": "code",
   "execution_count": null,
   "metadata": {
    "collapsed": true
   },
   "outputs": [],
   "source": []
  }
 ],
 "metadata": {
  "kernelspec": {
   "display_name": "Python 3",
   "language": "python",
   "name": "python3"
  },
  "language_info": {
   "codemirror_mode": {
    "name": "ipython",
    "version": 3
   },
   "file_extension": ".py",
   "mimetype": "text/x-python",
   "name": "python",
   "nbconvert_exporter": "python",
   "pygments_lexer": "ipython3",
   "version": "3.6.3"
  }
 },
 "nbformat": 4,
 "nbformat_minor": 2
}
