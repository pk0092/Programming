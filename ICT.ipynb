{
 "cells": [
  {
   "cell_type": "code",
   "execution_count": 5,
   "metadata": {},
   "outputs": [
    {
     "name": "stdout",
     "output_type": "stream",
     "text": [
      "ICT\n",
      "ICT\n",
      "Done\n"
     ]
    }
   ],
   "source": [
    "##ICT\n",
    "import win32com.client as wc #윈도우 리소스 컨트롤 모듈\n",
    "\n",
    "excel = wc.Dispatch(\"Excel.Application\") #엑셀 접근\n",
    "\n",
    "\n",
    "#엑셀파일 오픈 & 시트 활성화\n",
    "ex1=excel.Workbooks.Open(r'C:\\Users\\uidk3482\\Documents\\데일리.xlsx')\n",
    "ws1= ex1.ActiveSheet\n",
    "ex2=excel.Workbooks.Open(r'C:\\Users\\uidk3482\\Documents\\ICT내용만.xlsx')\n",
    "ws2= ex2.ActiveSheet\n",
    "\n",
    "#엑셀파일의 셀 내용을 받을 리스트 변수(리스트화 하는 이유->동작이 20배 더 빠름)\n",
    "troubles=[]\n",
    "ICT=[]\n",
    "\n",
    "\n",
    "#리스트 길이\n",
    "listlength=101\n",
    "\n",
    "\n",
    "#셀내용들 리스트화\n",
    "for i in range(1,listlength):\n",
    "    \n",
    "    if type(ws1.Cells(i,7).Value) is str:\n",
    "        troubles=troubles + [ws1.Cells(i,7).Value]\n",
    "    \n",
    "    else:\n",
    "        troubles=troubles + ['?']\n",
    "        \n",
    "#ICT있는지 조사        \n",
    "for num, trouble in enumerate(troubles):\n",
    "    if 'ICT' in trouble:\n",
    "        ICT=ICT+[ws1.Cells(num+1,1),ws1.Cells(num+1,2),ws1.Cells(num+1,3),ws1.Cells(num+1,4),ws1.Cells(num+1,5),ws1.Cells(num+1,6),ws1.Cells(num+1,7),ws1.Cells(num+1,8)]\n",
    "        print(trouble)\n",
    "#적기\n",
    "row=1\n",
    "for column, cont in enumerate(ICT):\n",
    "    ws2.Cells(row,column+1).Value=cont\n",
    "    if (column+1)%8 == 0:\n",
    "        row=row+1\n",
    "    \n",
    "\n",
    "#저장 및 종료            \n",
    "ex2.Save()\n",
    "excel.Quit()\n",
    "print(\"Done\")"
   ]
  },
  {
   "cell_type": "code",
   "execution_count": null,
   "metadata": {
    "collapsed": true
   },
   "outputs": [],
   "source": []
  }
 ],
 "metadata": {
  "kernelspec": {
   "display_name": "Python 3",
   "language": "python",
   "name": "python3"
  },
  "language_info": {
   "codemirror_mode": {
    "name": "ipython",
    "version": 3
   },
   "file_extension": ".py",
   "mimetype": "text/x-python",
   "name": "python",
   "nbconvert_exporter": "python",
   "pygments_lexer": "ipython3",
   "version": "3.6.3"
  }
 },
 "nbformat": 4,
 "nbformat_minor": 2
}
